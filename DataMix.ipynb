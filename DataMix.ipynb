{
 "cells": [
  {
   "cell_type": "code",
   "execution_count": 21,
   "id": "3c629af0-2e94-4807-9e8a-80714e964671",
   "metadata": {},
   "outputs": [
    {
     "name": "stdout",
     "output_type": "stream",
     "text": [
      "Files have been successfully copied and renamed.\n"
     ]
    }
   ],
   "source": [
    "import os\n",
    "import random\n",
    "import shutil\n",
    "\n",
    "# Define the source and destination directories\n",
    "source_dir = r'C:\\Users\\User\\Documents\\Lie detect data\\6M_EEGData'\n",
    "selected_dir = r'C:\\Users\\User\\Documents\\Lie detect data\\56M_DWTEEGData'\n",
    "rest_dir = r'C:\\Users\\User\\Documents\\Lie detect data\\56M_Test_DWTEEGData'\n",
    "\n",
    "# Get a list of all files in the source directory that contain \"lie\" in their name\n",
    "all_files = [f for f in os.listdir(source_dir) if f.endswith('.pkl') and 'truth' in f and 'ansr' in f]\n",
    "\n",
    "# Randomly select 30 files from the filtered list\n",
    "selected_files = random.sample(all_files, 30)\n",
    "\n",
    "# Determine the rest of the files\n",
    "rest_files = [f for f in all_files if f not in selected_files]\n",
    "\n",
    "# Create the destination directories if they don't exist\n",
    "os.makedirs(selected_dir, exist_ok=True)\n",
    "os.makedirs(rest_dir, exist_ok=True)\n",
    "\n",
    "# Copy and rename the selected files to the selected directory\n",
    "for i, file_name in enumerate(selected_files, start=31):\n",
    "    source_path = os.path.join(source_dir, file_name)\n",
    "    destination_path = os.path.join(selected_dir, f'truth_{i}.pkl')\n",
    "    shutil.copy(source_path, destination_path)\n",
    "\n",
    "# Copy and rename the rest of the files to the rest directory\n",
    "for i, file_name in enumerate(rest_files, start=26):\n",
    "    source_path = os.path.join(source_dir, file_name)\n",
    "    destination_path = os.path.join(rest_dir, f'truth_{i}.pkl')\n",
    "    shutil.copy(source_path, destination_path)\n",
    "\n",
    "print(\"Files have been successfully copied and renamed.\")\n",
    "\n"
   ]
  },
  {
   "cell_type": "code",
   "execution_count": null,
   "id": "5bb81723-bc5d-4f02-9fb9-04bf6d85f6bf",
   "metadata": {},
   "outputs": [],
   "source": []
  },
  {
   "cell_type": "code",
   "execution_count": null,
   "id": "6d8bbfe1-bc9e-4f77-b039-1b797b6996e1",
   "metadata": {},
   "outputs": [],
   "source": []
  }
 ],
 "metadata": {
  "kernelspec": {
   "display_name": "Python 3 (ipykernel)",
   "language": "python",
   "name": "python3"
  },
  "language_info": {
   "codemirror_mode": {
    "name": "ipython",
    "version": 3
   },
   "file_extension": ".py",
   "mimetype": "text/x-python",
   "name": "python",
   "nbconvert_exporter": "python",
   "pygments_lexer": "ipython3",
   "version": "3.12.4"
  }
 },
 "nbformat": 4,
 "nbformat_minor": 5
}
