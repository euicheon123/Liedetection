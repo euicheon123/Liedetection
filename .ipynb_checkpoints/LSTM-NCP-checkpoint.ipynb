{
 "cells": [
  {
   "cell_type": "markdown",
   "id": "27d3c383-5109-4dc9-81f3-7b114cd5c643",
   "metadata": {},
   "source": [
    "# Apply DWT"
   ]
  },
  {
   "cell_type": "code",
   "execution_count": 3,
   "id": "b9f40a0e-1d76-400e-ac60-b3433b42ec2a",
   "metadata": {},
   "outputs": [
    {
     "name": "stdout",
     "output_type": "stream",
     "text": [
      "Data preprocessing complete. Saved X_normalized.npy and y.npy\n",
      "Final X shape: (120, 1400, 65)\n",
      "Final y shape: (120,)\n"
     ]
    }
   ],
   "source": [
    "import os\n",
    "import pickle\n",
    "import numpy as np\n",
    "import pywt\n",
    "from sklearn.preprocessing import StandardScaler\n",
    "\n",
    "# Directory containing the data files\n",
    "data_dir = r'C:\\Users\\User\\Documents\\Lie detect data\\56M_DWTEEGData'\n",
    "\n",
    "def pad_or_truncate(array, target_length):\n",
    "    \"\"\"Pad or truncate an array to reach a specific length.\"\"\"\n",
    "    if len(array) > target_length:\n",
    "        return array[:target_length]\n",
    "    else:\n",
    "        return np.pad(array, (0, target_length - len(array)), mode='constant')\n",
    "\n",
    "def apply_dwt(eeg_signal, wavelet='db4', level=4, target_length=1400):\n",
    "    coeffs = pywt.wavedec(eeg_signal, wavelet, level=level)\n",
    "    dwt_features = np.concatenate(coeffs)\n",
    "    dwt_features = pad_or_truncate(dwt_features, target_length)\n",
    "    return dwt_features\n",
    "\n",
    "def preprocess_data(eeg_data, wavelet='db4', level=4, seq_length=1400):\n",
    "    preprocessed_data = []\n",
    "    for signal in eeg_data:\n",
    "        if signal.ndim == 1:\n",
    "            signal_dwt = apply_dwt(signal, wavelet, level, seq_length)\n",
    "        else:\n",
    "            signal_dwt = np.array([apply_dwt(channel, wavelet, level, seq_length) for channel in signal])\n",
    "        preprocessed_data.append(signal_dwt.T)  # Transpose to ensure shape is (seq_length, channels)\n",
    "    return np.array(preprocessed_data)\n",
    "\n",
    "def load_and_preprocess_data(data_dir, wavelet='db4', level=4, seq_length=1400):\n",
    "    data = []\n",
    "    labels = []\n",
    "    \n",
    "    for filename in os.listdir(data_dir):\n",
    "        if filename.endswith('.pkl'):\n",
    "            filepath = os.path.join(data_dir, filename)\n",
    "            with open(filepath, 'rb') as f:\n",
    "                eeg = pickle.load(f)\n",
    "            \n",
    "            # Apply DWT and preprocess\n",
    "            preprocessed_signal = preprocess_data(eeg, wavelet, level, seq_length)\n",
    "            data.append(preprocessed_signal)\n",
    "            \n",
    "            # Extract label from filename\n",
    "            label = 1 if filename.startswith('truth') else 0\n",
    "            labels.append(label)\n",
    "    \n",
    "    return np.array(data), np.array(labels)\n",
    "\n",
    "# Load and preprocess all data\n",
    "X, y = load_and_preprocess_data(data_dir)\n",
    "\n",
    "# Normalize the features\n",
    "scaler = StandardScaler()\n",
    "X_reshaped = X.reshape(-1, X.shape[-1])\n",
    "X_normalized = scaler.fit_transform(X_reshaped).reshape(X.shape)\n",
    "\n",
    "# Transpose the normalized data to get the final shape (samples, seq_length, channels)\n",
    "X_normalized = X_normalized.transpose(0, 2, 1)\n",
    "\n",
    "# Save preprocessed data for later use\n",
    "np.save(r'C:\\Users\\User\\Documents\\Lie detect data\\X_normalized.npy', X_normalized)\n",
    "np.save(r'C:\\Users\\User\\Documents\\Lie detect data\\y.npy', y)\n",
    "\n",
    "print(\"Data preprocessing complete. Saved X_normalized.npy and y.npy\")\n",
    "print(f\"Final X shape: {X_normalized.shape}\")\n",
    "print(f\"Final y shape: {y.shape}\")\n"
   ]
  },
  {
   "cell_type": "markdown",
   "id": "dae6e9cb-4cdb-4f31-9f66-4902bdf5b6fc",
   "metadata": {},
   "source": [
    "# LSTM-NCP"
   ]
  },
  {
   "cell_type": "code",
   "execution_count": 7,
   "id": "3970b084-179b-4fb1-a2a6-c486f92b9475",
   "metadata": {
    "scrolled": true
   },
   "outputs": [
    {
     "name": "stdout",
     "output_type": "stream",
     "text": [
      "Class Distribution in Training Set: tensor([47, 49])\n",
      "Class Distribution in Validation Set: tensor([13, 11])\n",
      "Epoch [1/100], Loss: 0.7373\n",
      "Validation Loss: 0.6936, Accuracy: 0.4583, F1 Score: 0.6286, Precision: 0.4583, Recall: 1.0000\n",
      "Epoch [2/100], Loss: 0.7685\n",
      "Validation Loss: 0.6933, Accuracy: 0.4583, F1 Score: 0.6286, Precision: 0.4583, Recall: 1.0000\n",
      "Epoch [3/100], Loss: 0.7238\n"
     ]
    },
    {
     "name": "stderr",
     "output_type": "stream",
     "text": [
      "C:\\Users\\User\\anaconda3\\envs\\detectlie\\Lib\\site-packages\\sklearn\\metrics\\_classification.py:1531: UndefinedMetricWarning: Precision is ill-defined and being set to 0.0 due to no predicted samples. Use `zero_division` parameter to control this behavior.\n",
      "  _warn_prf(average, modifier, f\"{metric.capitalize()} is\", len(result))\n",
      "C:\\Users\\User\\anaconda3\\envs\\detectlie\\Lib\\site-packages\\sklearn\\metrics\\_classification.py:1531: UndefinedMetricWarning: Precision is ill-defined and being set to 0.0 due to no predicted samples. Use `zero_division` parameter to control this behavior.\n",
      "  _warn_prf(average, modifier, f\"{metric.capitalize()} is\", len(result))\n",
      "C:\\Users\\User\\anaconda3\\envs\\detectlie\\Lib\\site-packages\\sklearn\\metrics\\_classification.py:1531: UndefinedMetricWarning: Precision is ill-defined and being set to 0.0 due to no predicted samples. Use `zero_division` parameter to control this behavior.\n",
      "  _warn_prf(average, modifier, f\"{metric.capitalize()} is\", len(result))\n"
     ]
    },
    {
     "name": "stdout",
     "output_type": "stream",
     "text": [
      "Validation Loss: 0.6931, Accuracy: 0.5417, F1 Score: 0.0000, Precision: 0.0000, Recall: 0.0000\n",
      "Epoch [4/100], Loss: 0.7035\n",
      "Validation Loss: 0.6931, Accuracy: 0.5417, F1 Score: 0.0000, Precision: 0.0000, Recall: 0.0000\n",
      "Epoch [5/100], Loss: 0.7177\n",
      "Validation Loss: 0.6929, Accuracy: 0.5417, F1 Score: 0.0000, Precision: 0.0000, Recall: 0.0000\n",
      "Epoch [6/100], Loss: 0.7079\n",
      "Validation Loss: 0.6929, Accuracy: 0.5417, F1 Score: 0.0000, Precision: 0.0000, Recall: 0.0000\n",
      "Epoch [7/100], Loss: 0.7714\n",
      "Validation Loss: 0.6929, Accuracy: 0.5417, F1 Score: 0.0000, Precision: 0.0000, Recall: 0.0000\n",
      "Epoch [8/100], Loss: 0.6499\n"
     ]
    },
    {
     "name": "stderr",
     "output_type": "stream",
     "text": [
      "C:\\Users\\User\\anaconda3\\envs\\detectlie\\Lib\\site-packages\\sklearn\\metrics\\_classification.py:1531: UndefinedMetricWarning: Precision is ill-defined and being set to 0.0 due to no predicted samples. Use `zero_division` parameter to control this behavior.\n",
      "  _warn_prf(average, modifier, f\"{metric.capitalize()} is\", len(result))\n",
      "C:\\Users\\User\\anaconda3\\envs\\detectlie\\Lib\\site-packages\\sklearn\\metrics\\_classification.py:1531: UndefinedMetricWarning: Precision is ill-defined and being set to 0.0 due to no predicted samples. Use `zero_division` parameter to control this behavior.\n",
      "  _warn_prf(average, modifier, f\"{metric.capitalize()} is\", len(result))\n",
      "C:\\Users\\User\\anaconda3\\envs\\detectlie\\Lib\\site-packages\\sklearn\\metrics\\_classification.py:1531: UndefinedMetricWarning: Precision is ill-defined and being set to 0.0 due to no predicted samples. Use `zero_division` parameter to control this behavior.\n",
      "  _warn_prf(average, modifier, f\"{metric.capitalize()} is\", len(result))\n"
     ]
    },
    {
     "name": "stdout",
     "output_type": "stream",
     "text": [
      "Validation Loss: 0.6928, Accuracy: 0.5417, F1 Score: 0.0000, Precision: 0.0000, Recall: 0.0000\n",
      "Epoch [9/100], Loss: 0.6885\n",
      "Validation Loss: 0.6931, Accuracy: 0.5417, F1 Score: 0.0000, Precision: 0.0000, Recall: 0.0000\n",
      "Epoch [10/100], Loss: 0.6707\n",
      "Validation Loss: 0.6930, Accuracy: 0.5417, F1 Score: 0.0000, Precision: 0.0000, Recall: 0.0000\n"
     ]
    },
    {
     "name": "stderr",
     "output_type": "stream",
     "text": [
      "C:\\Users\\User\\anaconda3\\envs\\detectlie\\Lib\\site-packages\\sklearn\\metrics\\_classification.py:1531: UndefinedMetricWarning: Precision is ill-defined and being set to 0.0 due to no predicted samples. Use `zero_division` parameter to control this behavior.\n",
      "  _warn_prf(average, modifier, f\"{metric.capitalize()} is\", len(result))\n",
      "C:\\Users\\User\\anaconda3\\envs\\detectlie\\Lib\\site-packages\\sklearn\\metrics\\_classification.py:1531: UndefinedMetricWarning: Precision is ill-defined and being set to 0.0 due to no predicted samples. Use `zero_division` parameter to control this behavior.\n",
      "  _warn_prf(average, modifier, f\"{metric.capitalize()} is\", len(result))\n",
      "C:\\Users\\User\\anaconda3\\envs\\detectlie\\Lib\\site-packages\\sklearn\\metrics\\_classification.py:1531: UndefinedMetricWarning: Precision is ill-defined and being set to 0.0 due to no predicted samples. Use `zero_division` parameter to control this behavior.\n",
      "  _warn_prf(average, modifier, f\"{metric.capitalize()} is\", len(result))\n"
     ]
    },
    {
     "name": "stdout",
     "output_type": "stream",
     "text": [
      "Epoch [11/100], Loss: 0.6334\n",
      "Validation Loss: 0.6929, Accuracy: 0.5417, F1 Score: 0.0000, Precision: 0.0000, Recall: 0.0000\n",
      "Epoch [12/100], Loss: 0.7886\n",
      "Validation Loss: 0.6928, Accuracy: 0.5417, F1 Score: 0.0000, Precision: 0.0000, Recall: 0.0000\n"
     ]
    },
    {
     "name": "stderr",
     "output_type": "stream",
     "text": [
      "C:\\Users\\User\\anaconda3\\envs\\detectlie\\Lib\\site-packages\\sklearn\\metrics\\_classification.py:1531: UndefinedMetricWarning: Precision is ill-defined and being set to 0.0 due to no predicted samples. Use `zero_division` parameter to control this behavior.\n",
      "  _warn_prf(average, modifier, f\"{metric.capitalize()} is\", len(result))\n",
      "C:\\Users\\User\\anaconda3\\envs\\detectlie\\Lib\\site-packages\\sklearn\\metrics\\_classification.py:1531: UndefinedMetricWarning: Precision is ill-defined and being set to 0.0 due to no predicted samples. Use `zero_division` parameter to control this behavior.\n",
      "  _warn_prf(average, modifier, f\"{metric.capitalize()} is\", len(result))\n"
     ]
    },
    {
     "name": "stdout",
     "output_type": "stream",
     "text": [
      "Epoch [13/100], Loss: 0.7213\n",
      "Validation Loss: 0.6932, Accuracy: 0.4583, F1 Score: 0.6286, Precision: 0.4583, Recall: 1.0000\n",
      "Epoch [14/100], Loss: 0.7296\n",
      "Validation Loss: 0.6929, Accuracy: 0.5417, F1 Score: 0.0000, Precision: 0.0000, Recall: 0.0000\n",
      "Epoch [15/100], Loss: 0.6115\n"
     ]
    },
    {
     "name": "stderr",
     "output_type": "stream",
     "text": [
      "C:\\Users\\User\\anaconda3\\envs\\detectlie\\Lib\\site-packages\\sklearn\\metrics\\_classification.py:1531: UndefinedMetricWarning: Precision is ill-defined and being set to 0.0 due to no predicted samples. Use `zero_division` parameter to control this behavior.\n",
      "  _warn_prf(average, modifier, f\"{metric.capitalize()} is\", len(result))\n",
      "C:\\Users\\User\\anaconda3\\envs\\detectlie\\Lib\\site-packages\\sklearn\\metrics\\_classification.py:1531: UndefinedMetricWarning: Precision is ill-defined and being set to 0.0 due to no predicted samples. Use `zero_division` parameter to control this behavior.\n",
      "  _warn_prf(average, modifier, f\"{metric.capitalize()} is\", len(result))\n"
     ]
    },
    {
     "name": "stdout",
     "output_type": "stream",
     "text": [
      "Validation Loss: 0.6924, Accuracy: 0.5417, F1 Score: 0.0000, Precision: 0.0000, Recall: 0.0000\n",
      "Epoch [16/100], Loss: 0.7468\n",
      "Validation Loss: 0.6927, Accuracy: 0.5417, F1 Score: 0.0000, Precision: 0.0000, Recall: 0.0000\n",
      "Epoch [17/100], Loss: 0.7365\n",
      "Validation Loss: 0.6940, Accuracy: 0.4583, F1 Score: 0.6286, Precision: 0.4583, Recall: 1.0000\n",
      "Epoch [18/100], Loss: 0.6594\n",
      "Validation Loss: 0.6933, Accuracy: 0.4583, F1 Score: 0.6286, Precision: 0.4583, Recall: 1.0000\n",
      "Epoch [19/100], Loss: 0.6828\n",
      "Validation Loss: 0.6927, Accuracy: 0.5417, F1 Score: 0.0000, Precision: 0.0000, Recall: 0.0000\n",
      "Epoch [20/100], Loss: 0.7266\n",
      "Validation Loss: 0.6922, Accuracy: 0.5417, F1 Score: 0.0000, Precision: 0.0000, Recall: 0.0000\n"
     ]
    },
    {
     "name": "stderr",
     "output_type": "stream",
     "text": [
      "C:\\Users\\User\\anaconda3\\envs\\detectlie\\Lib\\site-packages\\sklearn\\metrics\\_classification.py:1531: UndefinedMetricWarning: Precision is ill-defined and being set to 0.0 due to no predicted samples. Use `zero_division` parameter to control this behavior.\n",
      "  _warn_prf(average, modifier, f\"{metric.capitalize()} is\", len(result))\n",
      "C:\\Users\\User\\anaconda3\\envs\\detectlie\\Lib\\site-packages\\sklearn\\metrics\\_classification.py:1531: UndefinedMetricWarning: Precision is ill-defined and being set to 0.0 due to no predicted samples. Use `zero_division` parameter to control this behavior.\n",
      "  _warn_prf(average, modifier, f\"{metric.capitalize()} is\", len(result))\n"
     ]
    },
    {
     "name": "stdout",
     "output_type": "stream",
     "text": [
      "Epoch [21/100], Loss: 0.7876\n",
      "Validation Loss: 0.6922, Accuracy: 0.5417, F1 Score: 0.0000, Precision: 0.0000, Recall: 0.0000\n",
      "Epoch [22/100], Loss: 0.7053\n",
      "Validation Loss: 0.6917, Accuracy: 0.5417, F1 Score: 0.0000, Precision: 0.0000, Recall: 0.0000\n",
      "Epoch [23/100], Loss: 0.7233\n",
      "Validation Loss: 0.6918, Accuracy: 0.5417, F1 Score: 0.0000, Precision: 0.0000, Recall: 0.0000\n"
     ]
    },
    {
     "name": "stderr",
     "output_type": "stream",
     "text": [
      "C:\\Users\\User\\anaconda3\\envs\\detectlie\\Lib\\site-packages\\sklearn\\metrics\\_classification.py:1531: UndefinedMetricWarning: Precision is ill-defined and being set to 0.0 due to no predicted samples. Use `zero_division` parameter to control this behavior.\n",
      "  _warn_prf(average, modifier, f\"{metric.capitalize()} is\", len(result))\n",
      "C:\\Users\\User\\anaconda3\\envs\\detectlie\\Lib\\site-packages\\sklearn\\metrics\\_classification.py:1531: UndefinedMetricWarning: Precision is ill-defined and being set to 0.0 due to no predicted samples. Use `zero_division` parameter to control this behavior.\n",
      "  _warn_prf(average, modifier, f\"{metric.capitalize()} is\", len(result))\n",
      "C:\\Users\\User\\anaconda3\\envs\\detectlie\\Lib\\site-packages\\sklearn\\metrics\\_classification.py:1531: UndefinedMetricWarning: Precision is ill-defined and being set to 0.0 due to no predicted samples. Use `zero_division` parameter to control this behavior.\n",
      "  _warn_prf(average, modifier, f\"{metric.capitalize()} is\", len(result))\n"
     ]
    },
    {
     "name": "stdout",
     "output_type": "stream",
     "text": [
      "Epoch [24/100], Loss: 0.6314\n",
      "Validation Loss: 0.6921, Accuracy: 0.5417, F1 Score: 0.0000, Precision: 0.0000, Recall: 0.0000\n",
      "Epoch [25/100], Loss: 0.7148\n",
      "Validation Loss: 0.6923, Accuracy: 0.5417, F1 Score: 0.0000, Precision: 0.0000, Recall: 0.0000\n",
      "Epoch [26/100], Loss: 0.7502\n",
      "Validation Loss: 0.6926, Accuracy: 0.5417, F1 Score: 0.0000, Precision: 0.0000, Recall: 0.0000\n"
     ]
    },
    {
     "name": "stderr",
     "output_type": "stream",
     "text": [
      "C:\\Users\\User\\anaconda3\\envs\\detectlie\\Lib\\site-packages\\sklearn\\metrics\\_classification.py:1531: UndefinedMetricWarning: Precision is ill-defined and being set to 0.0 due to no predicted samples. Use `zero_division` parameter to control this behavior.\n",
      "  _warn_prf(average, modifier, f\"{metric.capitalize()} is\", len(result))\n",
      "C:\\Users\\User\\anaconda3\\envs\\detectlie\\Lib\\site-packages\\sklearn\\metrics\\_classification.py:1531: UndefinedMetricWarning: Precision is ill-defined and being set to 0.0 due to no predicted samples. Use `zero_division` parameter to control this behavior.\n",
      "  _warn_prf(average, modifier, f\"{metric.capitalize()} is\", len(result))\n",
      "C:\\Users\\User\\anaconda3\\envs\\detectlie\\Lib\\site-packages\\sklearn\\metrics\\_classification.py:1531: UndefinedMetricWarning: Precision is ill-defined and being set to 0.0 due to no predicted samples. Use `zero_division` parameter to control this behavior.\n",
      "  _warn_prf(average, modifier, f\"{metric.capitalize()} is\", len(result))\n"
     ]
    },
    {
     "name": "stdout",
     "output_type": "stream",
     "text": [
      "Epoch [27/100], Loss: 0.6670\n",
      "Validation Loss: 0.6926, Accuracy: 0.5417, F1 Score: 0.0000, Precision: 0.0000, Recall: 0.0000\n",
      "Epoch [28/100], Loss: 0.7202\n",
      "Validation Loss: 0.6934, Accuracy: 0.4583, F1 Score: 0.6286, Precision: 0.4583, Recall: 1.0000\n",
      "Epoch [29/100], Loss: 0.7969\n"
     ]
    },
    {
     "name": "stderr",
     "output_type": "stream",
     "text": [
      "C:\\Users\\User\\anaconda3\\envs\\detectlie\\Lib\\site-packages\\sklearn\\metrics\\_classification.py:1531: UndefinedMetricWarning: Precision is ill-defined and being set to 0.0 due to no predicted samples. Use `zero_division` parameter to control this behavior.\n",
      "  _warn_prf(average, modifier, f\"{metric.capitalize()} is\", len(result))\n",
      "C:\\Users\\User\\anaconda3\\envs\\detectlie\\Lib\\site-packages\\sklearn\\metrics\\_classification.py:1531: UndefinedMetricWarning: Precision is ill-defined and being set to 0.0 due to no predicted samples. Use `zero_division` parameter to control this behavior.\n",
      "  _warn_prf(average, modifier, f\"{metric.capitalize()} is\", len(result))\n"
     ]
    },
    {
     "name": "stdout",
     "output_type": "stream",
     "text": [
      "Validation Loss: 0.6928, Accuracy: 0.5417, F1 Score: 0.0000, Precision: 0.0000, Recall: 0.0000\n",
      "Epoch [30/100], Loss: 0.7030\n",
      "Validation Loss: 0.6924, Accuracy: 0.5417, F1 Score: 0.0000, Precision: 0.0000, Recall: 0.0000\n",
      "Epoch [31/100], Loss: 0.7314\n",
      "Validation Loss: 0.6928, Accuracy: 0.5417, F1 Score: 0.0000, Precision: 0.0000, Recall: 0.0000\n"
     ]
    },
    {
     "name": "stderr",
     "output_type": "stream",
     "text": [
      "C:\\Users\\User\\anaconda3\\envs\\detectlie\\Lib\\site-packages\\sklearn\\metrics\\_classification.py:1531: UndefinedMetricWarning: Precision is ill-defined and being set to 0.0 due to no predicted samples. Use `zero_division` parameter to control this behavior.\n",
      "  _warn_prf(average, modifier, f\"{metric.capitalize()} is\", len(result))\n",
      "C:\\Users\\User\\anaconda3\\envs\\detectlie\\Lib\\site-packages\\sklearn\\metrics\\_classification.py:1531: UndefinedMetricWarning: Precision is ill-defined and being set to 0.0 due to no predicted samples. Use `zero_division` parameter to control this behavior.\n",
      "  _warn_prf(average, modifier, f\"{metric.capitalize()} is\", len(result))\n"
     ]
    },
    {
     "name": "stdout",
     "output_type": "stream",
     "text": [
      "Epoch [32/100], Loss: 0.6991\n",
      "Validation Loss: 0.6933, Accuracy: 0.4583, F1 Score: 0.6286, Precision: 0.4583, Recall: 1.0000\n",
      "Epoch [33/100], Loss: 0.7096\n",
      "Validation Loss: 0.6932, Accuracy: 0.4583, F1 Score: 0.6286, Precision: 0.4583, Recall: 1.0000\n",
      "Epoch [34/100], Loss: 0.6705\n",
      "Validation Loss: 0.6928, Accuracy: 0.5417, F1 Score: 0.0000, Precision: 0.0000, Recall: 0.0000\n"
     ]
    },
    {
     "name": "stderr",
     "output_type": "stream",
     "text": [
      "C:\\Users\\User\\anaconda3\\envs\\detectlie\\Lib\\site-packages\\sklearn\\metrics\\_classification.py:1531: UndefinedMetricWarning: Precision is ill-defined and being set to 0.0 due to no predicted samples. Use `zero_division` parameter to control this behavior.\n",
      "  _warn_prf(average, modifier, f\"{metric.capitalize()} is\", len(result))\n",
      "C:\\Users\\User\\anaconda3\\envs\\detectlie\\Lib\\site-packages\\sklearn\\metrics\\_classification.py:1531: UndefinedMetricWarning: Precision is ill-defined and being set to 0.0 due to no predicted samples. Use `zero_division` parameter to control this behavior.\n",
      "  _warn_prf(average, modifier, f\"{metric.capitalize()} is\", len(result))\n",
      "C:\\Users\\User\\anaconda3\\envs\\detectlie\\Lib\\site-packages\\sklearn\\metrics\\_classification.py:1531: UndefinedMetricWarning: Precision is ill-defined and being set to 0.0 due to no predicted samples. Use `zero_division` parameter to control this behavior.\n",
      "  _warn_prf(average, modifier, f\"{metric.capitalize()} is\", len(result))\n"
     ]
    },
    {
     "name": "stdout",
     "output_type": "stream",
     "text": [
      "Epoch [35/100], Loss: 0.7249\n",
      "Validation Loss: 0.6930, Accuracy: 0.5417, F1 Score: 0.0000, Precision: 0.0000, Recall: 0.0000\n",
      "Epoch [36/100], Loss: 0.7550\n",
      "Validation Loss: 0.6929, Accuracy: 0.5417, F1 Score: 0.0000, Precision: 0.0000, Recall: 0.0000\n",
      "Epoch [37/100], Loss: 0.7245\n"
     ]
    },
    {
     "name": "stderr",
     "output_type": "stream",
     "text": [
      "C:\\Users\\User\\anaconda3\\envs\\detectlie\\Lib\\site-packages\\sklearn\\metrics\\_classification.py:1531: UndefinedMetricWarning: Precision is ill-defined and being set to 0.0 due to no predicted samples. Use `zero_division` parameter to control this behavior.\n",
      "  _warn_prf(average, modifier, f\"{metric.capitalize()} is\", len(result))\n",
      "C:\\Users\\User\\anaconda3\\envs\\detectlie\\Lib\\site-packages\\sklearn\\metrics\\_classification.py:1531: UndefinedMetricWarning: Precision is ill-defined and being set to 0.0 due to no predicted samples. Use `zero_division` parameter to control this behavior.\n",
      "  _warn_prf(average, modifier, f\"{metric.capitalize()} is\", len(result))\n",
      "C:\\Users\\User\\anaconda3\\envs\\detectlie\\Lib\\site-packages\\sklearn\\metrics\\_classification.py:1531: UndefinedMetricWarning: Precision is ill-defined and being set to 0.0 due to no predicted samples. Use `zero_division` parameter to control this behavior.\n",
      "  _warn_prf(average, modifier, f\"{metric.capitalize()} is\", len(result))\n"
     ]
    },
    {
     "name": "stdout",
     "output_type": "stream",
     "text": [
      "Validation Loss: 0.6927, Accuracy: 0.5417, F1 Score: 0.0000, Precision: 0.0000, Recall: 0.0000\n",
      "Epoch [38/100], Loss: 0.6849\n",
      "Validation Loss: 0.6926, Accuracy: 0.5417, F1 Score: 0.0000, Precision: 0.0000, Recall: 0.0000\n",
      "Epoch [39/100], Loss: 0.6733\n",
      "Validation Loss: 0.6925, Accuracy: 0.5417, F1 Score: 0.0000, Precision: 0.0000, Recall: 0.0000\n",
      "Epoch [40/100], Loss: 0.6714\n",
      "Validation Loss: 0.6928, Accuracy: 0.5417, F1 Score: 0.0000, Precision: 0.0000, Recall: 0.0000\n",
      "Epoch [41/100], Loss: 0.6615\n",
      "Validation Loss: 0.6933, Accuracy: 0.4583, F1 Score: 0.6286, Precision: 0.4583, Recall: 1.0000\n",
      "Epoch [42/100], Loss: 0.6525\n",
      "Validation Loss: 0.6934, Accuracy: 0.4583, F1 Score: 0.6286, Precision: 0.4583, Recall: 1.0000\n"
     ]
    },
    {
     "name": "stderr",
     "output_type": "stream",
     "text": [
      "C:\\Users\\User\\anaconda3\\envs\\detectlie\\Lib\\site-packages\\sklearn\\metrics\\_classification.py:1531: UndefinedMetricWarning: Precision is ill-defined and being set to 0.0 due to no predicted samples. Use `zero_division` parameter to control this behavior.\n",
      "  _warn_prf(average, modifier, f\"{metric.capitalize()} is\", len(result))\n"
     ]
    },
    {
     "name": "stdout",
     "output_type": "stream",
     "text": [
      "Epoch [43/100], Loss: 0.6280\n",
      "Validation Loss: 0.6932, Accuracy: 0.4583, F1 Score: 0.6286, Precision: 0.4583, Recall: 1.0000\n",
      "Epoch [44/100], Loss: 0.7365\n",
      "Validation Loss: 0.6923, Accuracy: 0.5417, F1 Score: 0.0000, Precision: 0.0000, Recall: 0.0000\n",
      "Epoch [45/100], Loss: 0.7006\n"
     ]
    },
    {
     "name": "stderr",
     "output_type": "stream",
     "text": [
      "C:\\Users\\User\\anaconda3\\envs\\detectlie\\Lib\\site-packages\\sklearn\\metrics\\_classification.py:1531: UndefinedMetricWarning: Precision is ill-defined and being set to 0.0 due to no predicted samples. Use `zero_division` parameter to control this behavior.\n",
      "  _warn_prf(average, modifier, f\"{metric.capitalize()} is\", len(result))\n",
      "C:\\Users\\User\\anaconda3\\envs\\detectlie\\Lib\\site-packages\\sklearn\\metrics\\_classification.py:1531: UndefinedMetricWarning: Precision is ill-defined and being set to 0.0 due to no predicted samples. Use `zero_division` parameter to control this behavior.\n",
      "  _warn_prf(average, modifier, f\"{metric.capitalize()} is\", len(result))\n"
     ]
    },
    {
     "name": "stdout",
     "output_type": "stream",
     "text": [
      "Validation Loss: 0.6920, Accuracy: 0.5417, F1 Score: 0.0000, Precision: 0.0000, Recall: 0.0000\n",
      "Epoch [46/100], Loss: 0.6933\n",
      "Validation Loss: 0.6929, Accuracy: 0.5417, F1 Score: 0.0000, Precision: 0.0000, Recall: 0.0000\n",
      "Epoch [47/100], Loss: 0.6801\n",
      "Validation Loss: 0.6931, Accuracy: 0.5417, F1 Score: 0.0000, Precision: 0.0000, Recall: 0.0000\n"
     ]
    },
    {
     "name": "stderr",
     "output_type": "stream",
     "text": [
      "C:\\Users\\User\\anaconda3\\envs\\detectlie\\Lib\\site-packages\\sklearn\\metrics\\_classification.py:1531: UndefinedMetricWarning: Precision is ill-defined and being set to 0.0 due to no predicted samples. Use `zero_division` parameter to control this behavior.\n",
      "  _warn_prf(average, modifier, f\"{metric.capitalize()} is\", len(result))\n",
      "C:\\Users\\User\\anaconda3\\envs\\detectlie\\Lib\\site-packages\\sklearn\\metrics\\_classification.py:1531: UndefinedMetricWarning: Precision is ill-defined and being set to 0.0 due to no predicted samples. Use `zero_division` parameter to control this behavior.\n",
      "  _warn_prf(average, modifier, f\"{metric.capitalize()} is\", len(result))\n"
     ]
    },
    {
     "name": "stdout",
     "output_type": "stream",
     "text": [
      "Epoch [48/100], Loss: 0.7173\n",
      "Validation Loss: 0.6932, Accuracy: 0.4583, F1 Score: 0.6286, Precision: 0.4583, Recall: 1.0000\n",
      "Epoch [49/100], Loss: 0.6486\n",
      "Validation Loss: 0.6940, Accuracy: 0.4583, F1 Score: 0.6286, Precision: 0.4583, Recall: 1.0000\n",
      "Epoch [50/100], Loss: 0.7312\n",
      "Validation Loss: 0.6926, Accuracy: 0.5417, F1 Score: 0.0000, Precision: 0.0000, Recall: 0.0000\n"
     ]
    },
    {
     "name": "stderr",
     "output_type": "stream",
     "text": [
      "C:\\Users\\User\\anaconda3\\envs\\detectlie\\Lib\\site-packages\\sklearn\\metrics\\_classification.py:1531: UndefinedMetricWarning: Precision is ill-defined and being set to 0.0 due to no predicted samples. Use `zero_division` parameter to control this behavior.\n",
      "  _warn_prf(average, modifier, f\"{metric.capitalize()} is\", len(result))\n",
      "C:\\Users\\User\\anaconda3\\envs\\detectlie\\Lib\\site-packages\\sklearn\\metrics\\_classification.py:1531: UndefinedMetricWarning: Precision is ill-defined and being set to 0.0 due to no predicted samples. Use `zero_division` parameter to control this behavior.\n",
      "  _warn_prf(average, modifier, f\"{metric.capitalize()} is\", len(result))\n",
      "C:\\Users\\User\\anaconda3\\envs\\detectlie\\Lib\\site-packages\\sklearn\\metrics\\_classification.py:1531: UndefinedMetricWarning: Precision is ill-defined and being set to 0.0 due to no predicted samples. Use `zero_division` parameter to control this behavior.\n",
      "  _warn_prf(average, modifier, f\"{metric.capitalize()} is\", len(result))\n"
     ]
    },
    {
     "name": "stdout",
     "output_type": "stream",
     "text": [
      "Epoch [51/100], Loss: 0.6979\n",
      "Validation Loss: 0.6920, Accuracy: 0.5417, F1 Score: 0.0000, Precision: 0.0000, Recall: 0.0000\n",
      "Epoch [52/100], Loss: 0.7503\n",
      "Validation Loss: 0.6918, Accuracy: 0.5417, F1 Score: 0.0000, Precision: 0.0000, Recall: 0.0000\n",
      "Epoch [53/100], Loss: 0.8292\n",
      "Validation Loss: 0.6918, Accuracy: 0.5417, F1 Score: 0.0000, Precision: 0.0000, Recall: 0.0000\n"
     ]
    },
    {
     "name": "stderr",
     "output_type": "stream",
     "text": [
      "C:\\Users\\User\\anaconda3\\envs\\detectlie\\Lib\\site-packages\\sklearn\\metrics\\_classification.py:1531: UndefinedMetricWarning: Precision is ill-defined and being set to 0.0 due to no predicted samples. Use `zero_division` parameter to control this behavior.\n",
      "  _warn_prf(average, modifier, f\"{metric.capitalize()} is\", len(result))\n",
      "C:\\Users\\User\\anaconda3\\envs\\detectlie\\Lib\\site-packages\\sklearn\\metrics\\_classification.py:1531: UndefinedMetricWarning: Precision is ill-defined and being set to 0.0 due to no predicted samples. Use `zero_division` parameter to control this behavior.\n",
      "  _warn_prf(average, modifier, f\"{metric.capitalize()} is\", len(result))\n",
      "C:\\Users\\User\\anaconda3\\envs\\detectlie\\Lib\\site-packages\\sklearn\\metrics\\_classification.py:1531: UndefinedMetricWarning: Precision is ill-defined and being set to 0.0 due to no predicted samples. Use `zero_division` parameter to control this behavior.\n",
      "  _warn_prf(average, modifier, f\"{metric.capitalize()} is\", len(result))\n"
     ]
    },
    {
     "name": "stdout",
     "output_type": "stream",
     "text": [
      "Epoch [54/100], Loss: 0.6794\n",
      "Validation Loss: 0.6918, Accuracy: 0.5417, F1 Score: 0.0000, Precision: 0.0000, Recall: 0.0000\n",
      "Epoch [55/100], Loss: 0.7064\n",
      "Validation Loss: 0.6924, Accuracy: 0.5417, F1 Score: 0.0000, Precision: 0.0000, Recall: 0.0000\n",
      "Epoch [56/100], Loss: 0.7851\n"
     ]
    },
    {
     "name": "stderr",
     "output_type": "stream",
     "text": [
      "C:\\Users\\User\\anaconda3\\envs\\detectlie\\Lib\\site-packages\\sklearn\\metrics\\_classification.py:1531: UndefinedMetricWarning: Precision is ill-defined and being set to 0.0 due to no predicted samples. Use `zero_division` parameter to control this behavior.\n",
      "  _warn_prf(average, modifier, f\"{metric.capitalize()} is\", len(result))\n",
      "C:\\Users\\User\\anaconda3\\envs\\detectlie\\Lib\\site-packages\\sklearn\\metrics\\_classification.py:1531: UndefinedMetricWarning: Precision is ill-defined and being set to 0.0 due to no predicted samples. Use `zero_division` parameter to control this behavior.\n",
      "  _warn_prf(average, modifier, f\"{metric.capitalize()} is\", len(result))\n",
      "C:\\Users\\User\\anaconda3\\envs\\detectlie\\Lib\\site-packages\\sklearn\\metrics\\_classification.py:1531: UndefinedMetricWarning: Precision is ill-defined and being set to 0.0 due to no predicted samples. Use `zero_division` parameter to control this behavior.\n",
      "  _warn_prf(average, modifier, f\"{metric.capitalize()} is\", len(result))\n"
     ]
    },
    {
     "name": "stdout",
     "output_type": "stream",
     "text": [
      "Validation Loss: 0.6918, Accuracy: 0.5417, F1 Score: 0.0000, Precision: 0.0000, Recall: 0.0000\n",
      "Epoch [57/100], Loss: 0.8365\n",
      "Validation Loss: 0.6914, Accuracy: 0.5417, F1 Score: 0.0000, Precision: 0.0000, Recall: 0.0000\n",
      "Epoch [58/100], Loss: 0.7155\n",
      "Validation Loss: 0.6915, Accuracy: 0.5417, F1 Score: 0.0000, Precision: 0.0000, Recall: 0.0000\n",
      "Epoch [59/100], Loss: 0.6682\n",
      "Validation Loss: 0.6928, Accuracy: 0.5417, F1 Score: 0.0000, Precision: 0.0000, Recall: 0.0000\n",
      "Epoch [60/100], Loss: 0.6776\n",
      "Validation Loss: 0.6933, Accuracy: 0.4583, F1 Score: 0.6286, Precision: 0.4583, Recall: 1.0000\n",
      "Epoch [61/100], Loss: 0.6438\n",
      "Validation Loss: 0.6931, Accuracy: 0.5417, F1 Score: 0.0000, Precision: 0.0000, Recall: 0.0000\n"
     ]
    },
    {
     "name": "stderr",
     "output_type": "stream",
     "text": [
      "C:\\Users\\User\\anaconda3\\envs\\detectlie\\Lib\\site-packages\\sklearn\\metrics\\_classification.py:1531: UndefinedMetricWarning: Precision is ill-defined and being set to 0.0 due to no predicted samples. Use `zero_division` parameter to control this behavior.\n",
      "  _warn_prf(average, modifier, f\"{metric.capitalize()} is\", len(result))\n",
      "C:\\Users\\User\\anaconda3\\envs\\detectlie\\Lib\\site-packages\\sklearn\\metrics\\_classification.py:1531: UndefinedMetricWarning: Precision is ill-defined and being set to 0.0 due to no predicted samples. Use `zero_division` parameter to control this behavior.\n",
      "  _warn_prf(average, modifier, f\"{metric.capitalize()} is\", len(result))\n"
     ]
    },
    {
     "name": "stdout",
     "output_type": "stream",
     "text": [
      "Epoch [62/100], Loss: 0.7109\n",
      "Validation Loss: 0.6934, Accuracy: 0.4583, F1 Score: 0.6286, Precision: 0.4583, Recall: 1.0000\n",
      "Epoch [63/100], Loss: 0.5722\n",
      "Validation Loss: 0.6933, Accuracy: 0.4583, F1 Score: 0.6286, Precision: 0.4583, Recall: 1.0000\n",
      "Epoch [64/100], Loss: 0.6927\n"
     ]
    },
    {
     "name": "stderr",
     "output_type": "stream",
     "text": [
      "C:\\Users\\User\\anaconda3\\envs\\detectlie\\Lib\\site-packages\\sklearn\\metrics\\_classification.py:1531: UndefinedMetricWarning: Precision is ill-defined and being set to 0.0 due to no predicted samples. Use `zero_division` parameter to control this behavior.\n",
      "  _warn_prf(average, modifier, f\"{metric.capitalize()} is\", len(result))\n",
      "C:\\Users\\User\\anaconda3\\envs\\detectlie\\Lib\\site-packages\\sklearn\\metrics\\_classification.py:1531: UndefinedMetricWarning: Precision is ill-defined and being set to 0.0 due to no predicted samples. Use `zero_division` parameter to control this behavior.\n",
      "  _warn_prf(average, modifier, f\"{metric.capitalize()} is\", len(result))\n",
      "C:\\Users\\User\\anaconda3\\envs\\detectlie\\Lib\\site-packages\\sklearn\\metrics\\_classification.py:1531: UndefinedMetricWarning: Precision is ill-defined and being set to 0.0 due to no predicted samples. Use `zero_division` parameter to control this behavior.\n",
      "  _warn_prf(average, modifier, f\"{metric.capitalize()} is\", len(result))\n"
     ]
    },
    {
     "name": "stdout",
     "output_type": "stream",
     "text": [
      "Validation Loss: 0.6925, Accuracy: 0.5417, F1 Score: 0.0000, Precision: 0.0000, Recall: 0.0000\n",
      "Epoch [65/100], Loss: 0.7449\n",
      "Validation Loss: 0.6921, Accuracy: 0.5417, F1 Score: 0.0000, Precision: 0.0000, Recall: 0.0000\n",
      "Epoch [66/100], Loss: 0.7488\n",
      "Validation Loss: 0.6926, Accuracy: 0.5417, F1 Score: 0.0000, Precision: 0.0000, Recall: 0.0000\n",
      "Epoch [67/100], Loss: 0.6893\n",
      "Validation Loss: 0.6930, Accuracy: 0.5417, F1 Score: 0.0000, Precision: 0.0000, Recall: 0.0000\n",
      "Epoch [68/100], Loss: 0.6455\n",
      "Validation Loss: 0.6926, Accuracy: 0.5417, F1 Score: 0.0000, Precision: 0.0000, Recall: 0.0000\n",
      "Epoch [69/100], Loss: 0.7261\n"
     ]
    },
    {
     "name": "stderr",
     "output_type": "stream",
     "text": [
      "C:\\Users\\User\\anaconda3\\envs\\detectlie\\Lib\\site-packages\\sklearn\\metrics\\_classification.py:1531: UndefinedMetricWarning: Precision is ill-defined and being set to 0.0 due to no predicted samples. Use `zero_division` parameter to control this behavior.\n",
      "  _warn_prf(average, modifier, f\"{metric.capitalize()} is\", len(result))\n",
      "C:\\Users\\User\\anaconda3\\envs\\detectlie\\Lib\\site-packages\\sklearn\\metrics\\_classification.py:1531: UndefinedMetricWarning: Precision is ill-defined and being set to 0.0 due to no predicted samples. Use `zero_division` parameter to control this behavior.\n",
      "  _warn_prf(average, modifier, f\"{metric.capitalize()} is\", len(result))\n",
      "C:\\Users\\User\\anaconda3\\envs\\detectlie\\Lib\\site-packages\\sklearn\\metrics\\_classification.py:1531: UndefinedMetricWarning: Precision is ill-defined and being set to 0.0 due to no predicted samples. Use `zero_division` parameter to control this behavior.\n",
      "  _warn_prf(average, modifier, f\"{metric.capitalize()} is\", len(result))\n",
      "C:\\Users\\User\\anaconda3\\envs\\detectlie\\Lib\\site-packages\\sklearn\\metrics\\_classification.py:1531: UndefinedMetricWarning: Precision is ill-defined and being set to 0.0 due to no predicted samples. Use `zero_division` parameter to control this behavior.\n",
      "  _warn_prf(average, modifier, f\"{metric.capitalize()} is\", len(result))\n",
      "C:\\Users\\User\\anaconda3\\envs\\detectlie\\Lib\\site-packages\\sklearn\\metrics\\_classification.py:1531: UndefinedMetricWarning: Precision is ill-defined and being set to 0.0 due to no predicted samples. Use `zero_division` parameter to control this behavior.\n",
      "  _warn_prf(average, modifier, f\"{metric.capitalize()} is\", len(result))\n"
     ]
    },
    {
     "name": "stdout",
     "output_type": "stream",
     "text": [
      "Validation Loss: 0.6926, Accuracy: 0.5417, F1 Score: 0.0000, Precision: 0.0000, Recall: 0.0000\n",
      "Epoch [70/100], Loss: 0.7634\n",
      "Validation Loss: 0.6927, Accuracy: 0.5417, F1 Score: 0.0000, Precision: 0.0000, Recall: 0.0000\n",
      "Epoch [71/100], Loss: 0.6790\n",
      "Validation Loss: 0.6931, Accuracy: 0.5417, F1 Score: 0.0000, Precision: 0.0000, Recall: 0.0000\n",
      "Epoch [72/100], Loss: 0.7859\n",
      "Validation Loss: 0.6925, Accuracy: 0.5417, F1 Score: 0.0000, Precision: 0.0000, Recall: 0.0000\n",
      "Epoch [73/100], Loss: 0.7634\n",
      "Validation Loss: 0.6931, Accuracy: 0.5417, F1 Score: 0.0000, Precision: 0.0000, Recall: 0.0000\n",
      "Epoch [74/100], Loss: 0.6966\n"
     ]
    },
    {
     "name": "stderr",
     "output_type": "stream",
     "text": [
      "C:\\Users\\User\\anaconda3\\envs\\detectlie\\Lib\\site-packages\\sklearn\\metrics\\_classification.py:1531: UndefinedMetricWarning: Precision is ill-defined and being set to 0.0 due to no predicted samples. Use `zero_division` parameter to control this behavior.\n",
      "  _warn_prf(average, modifier, f\"{metric.capitalize()} is\", len(result))\n",
      "C:\\Users\\User\\anaconda3\\envs\\detectlie\\Lib\\site-packages\\sklearn\\metrics\\_classification.py:1531: UndefinedMetricWarning: Precision is ill-defined and being set to 0.0 due to no predicted samples. Use `zero_division` parameter to control this behavior.\n",
      "  _warn_prf(average, modifier, f\"{metric.capitalize()} is\", len(result))\n",
      "C:\\Users\\User\\anaconda3\\envs\\detectlie\\Lib\\site-packages\\sklearn\\metrics\\_classification.py:1531: UndefinedMetricWarning: Precision is ill-defined and being set to 0.0 due to no predicted samples. Use `zero_division` parameter to control this behavior.\n",
      "  _warn_prf(average, modifier, f\"{metric.capitalize()} is\", len(result))\n",
      "C:\\Users\\User\\anaconda3\\envs\\detectlie\\Lib\\site-packages\\sklearn\\metrics\\_classification.py:1531: UndefinedMetricWarning: Precision is ill-defined and being set to 0.0 due to no predicted samples. Use `zero_division` parameter to control this behavior.\n",
      "  _warn_prf(average, modifier, f\"{metric.capitalize()} is\", len(result))\n",
      "C:\\Users\\User\\anaconda3\\envs\\detectlie\\Lib\\site-packages\\sklearn\\metrics\\_classification.py:1531: UndefinedMetricWarning: Precision is ill-defined and being set to 0.0 due to no predicted samples. Use `zero_division` parameter to control this behavior.\n",
      "  _warn_prf(average, modifier, f\"{metric.capitalize()} is\", len(result))\n"
     ]
    },
    {
     "name": "stdout",
     "output_type": "stream",
     "text": [
      "Validation Loss: 0.6929, Accuracy: 0.5417, F1 Score: 0.0000, Precision: 0.0000, Recall: 0.0000\n",
      "Epoch [75/100], Loss: 0.6385\n",
      "Validation Loss: 0.6927, Accuracy: 0.5417, F1 Score: 0.0000, Precision: 0.0000, Recall: 0.0000\n",
      "Epoch [76/100], Loss: 0.6488\n",
      "Validation Loss: 0.6922, Accuracy: 0.5417, F1 Score: 0.0000, Precision: 0.0000, Recall: 0.0000\n",
      "Epoch [77/100], Loss: 0.6570\n",
      "Validation Loss: 0.6930, Accuracy: 0.5417, F1 Score: 0.0000, Precision: 0.0000, Recall: 0.0000\n",
      "Epoch [78/100], Loss: 0.6440\n",
      "Validation Loss: 0.6922, Accuracy: 0.5417, F1 Score: 0.0000, Precision: 0.0000, Recall: 0.0000\n",
      "Epoch [79/100], Loss: 0.6456\n",
      "Validation Loss: 0.6928, Accuracy: 0.5417, F1 Score: 0.0000, Precision: 0.0000, Recall: 0.0000\n"
     ]
    },
    {
     "name": "stderr",
     "output_type": "stream",
     "text": [
      "C:\\Users\\User\\anaconda3\\envs\\detectlie\\Lib\\site-packages\\sklearn\\metrics\\_classification.py:1531: UndefinedMetricWarning: Precision is ill-defined and being set to 0.0 due to no predicted samples. Use `zero_division` parameter to control this behavior.\n",
      "  _warn_prf(average, modifier, f\"{metric.capitalize()} is\", len(result))\n",
      "C:\\Users\\User\\anaconda3\\envs\\detectlie\\Lib\\site-packages\\sklearn\\metrics\\_classification.py:1531: UndefinedMetricWarning: Precision is ill-defined and being set to 0.0 due to no predicted samples. Use `zero_division` parameter to control this behavior.\n",
      "  _warn_prf(average, modifier, f\"{metric.capitalize()} is\", len(result))\n",
      "C:\\Users\\User\\anaconda3\\envs\\detectlie\\Lib\\site-packages\\sklearn\\metrics\\_classification.py:1531: UndefinedMetricWarning: Precision is ill-defined and being set to 0.0 due to no predicted samples. Use `zero_division` parameter to control this behavior.\n",
      "  _warn_prf(average, modifier, f\"{metric.capitalize()} is\", len(result))\n"
     ]
    },
    {
     "name": "stdout",
     "output_type": "stream",
     "text": [
      "Epoch [80/100], Loss: 0.7015\n",
      "Validation Loss: 0.6925, Accuracy: 0.5417, F1 Score: 0.0000, Precision: 0.0000, Recall: 0.0000\n",
      "Epoch [81/100], Loss: 0.7627\n",
      "Validation Loss: 0.6930, Accuracy: 0.5417, F1 Score: 0.0000, Precision: 0.0000, Recall: 0.0000\n",
      "Epoch [82/100], Loss: 0.6762\n"
     ]
    },
    {
     "name": "stderr",
     "output_type": "stream",
     "text": [
      "C:\\Users\\User\\anaconda3\\envs\\detectlie\\Lib\\site-packages\\sklearn\\metrics\\_classification.py:1531: UndefinedMetricWarning: Precision is ill-defined and being set to 0.0 due to no predicted samples. Use `zero_division` parameter to control this behavior.\n",
      "  _warn_prf(average, modifier, f\"{metric.capitalize()} is\", len(result))\n",
      "C:\\Users\\User\\anaconda3\\envs\\detectlie\\Lib\\site-packages\\sklearn\\metrics\\_classification.py:1531: UndefinedMetricWarning: Precision is ill-defined and being set to 0.0 due to no predicted samples. Use `zero_division` parameter to control this behavior.\n",
      "  _warn_prf(average, modifier, f\"{metric.capitalize()} is\", len(result))\n",
      "C:\\Users\\User\\anaconda3\\envs\\detectlie\\Lib\\site-packages\\sklearn\\metrics\\_classification.py:1531: UndefinedMetricWarning: Precision is ill-defined and being set to 0.0 due to no predicted samples. Use `zero_division` parameter to control this behavior.\n",
      "  _warn_prf(average, modifier, f\"{metric.capitalize()} is\", len(result))\n"
     ]
    },
    {
     "name": "stdout",
     "output_type": "stream",
     "text": [
      "Validation Loss: 0.6923, Accuracy: 0.5417, F1 Score: 0.0000, Precision: 0.0000, Recall: 0.0000\n",
      "Epoch [83/100], Loss: 0.7223\n",
      "Validation Loss: 0.6934, Accuracy: 0.4583, F1 Score: 0.6286, Precision: 0.4583, Recall: 1.0000\n",
      "Epoch [84/100], Loss: 0.7097\n",
      "Validation Loss: 0.6937, Accuracy: 0.4583, F1 Score: 0.6286, Precision: 0.4583, Recall: 1.0000\n",
      "Epoch [85/100], Loss: 0.7449\n",
      "Validation Loss: 0.6929, Accuracy: 0.5417, F1 Score: 0.0000, Precision: 0.0000, Recall: 0.0000\n",
      "Epoch [86/100], Loss: 0.7419\n",
      "Validation Loss: 0.6930, Accuracy: 0.5417, F1 Score: 0.0000, Precision: 0.0000, Recall: 0.0000\n",
      "Epoch [87/100], Loss: 0.6391\n"
     ]
    },
    {
     "name": "stderr",
     "output_type": "stream",
     "text": [
      "C:\\Users\\User\\anaconda3\\envs\\detectlie\\Lib\\site-packages\\sklearn\\metrics\\_classification.py:1531: UndefinedMetricWarning: Precision is ill-defined and being set to 0.0 due to no predicted samples. Use `zero_division` parameter to control this behavior.\n",
      "  _warn_prf(average, modifier, f\"{metric.capitalize()} is\", len(result))\n",
      "C:\\Users\\User\\anaconda3\\envs\\detectlie\\Lib\\site-packages\\sklearn\\metrics\\_classification.py:1531: UndefinedMetricWarning: Precision is ill-defined and being set to 0.0 due to no predicted samples. Use `zero_division` parameter to control this behavior.\n",
      "  _warn_prf(average, modifier, f\"{metric.capitalize()} is\", len(result))\n",
      "C:\\Users\\User\\anaconda3\\envs\\detectlie\\Lib\\site-packages\\sklearn\\metrics\\_classification.py:1531: UndefinedMetricWarning: Precision is ill-defined and being set to 0.0 due to no predicted samples. Use `zero_division` parameter to control this behavior.\n",
      "  _warn_prf(average, modifier, f\"{metric.capitalize()} is\", len(result))\n",
      "C:\\Users\\User\\anaconda3\\envs\\detectlie\\Lib\\site-packages\\sklearn\\metrics\\_classification.py:1531: UndefinedMetricWarning: Precision is ill-defined and being set to 0.0 due to no predicted samples. Use `zero_division` parameter to control this behavior.\n",
      "  _warn_prf(average, modifier, f\"{metric.capitalize()} is\", len(result))\n",
      "C:\\Users\\User\\anaconda3\\envs\\detectlie\\Lib\\site-packages\\sklearn\\metrics\\_classification.py:1531: UndefinedMetricWarning: Precision is ill-defined and being set to 0.0 due to no predicted samples. Use `zero_division` parameter to control this behavior.\n",
      "  _warn_prf(average, modifier, f\"{metric.capitalize()} is\", len(result))\n"
     ]
    },
    {
     "name": "stdout",
     "output_type": "stream",
     "text": [
      "Validation Loss: 0.6928, Accuracy: 0.5417, F1 Score: 0.0000, Precision: 0.0000, Recall: 0.0000\n",
      "Epoch [88/100], Loss: 0.6551\n",
      "Validation Loss: 0.6925, Accuracy: 0.5417, F1 Score: 0.0000, Precision: 0.0000, Recall: 0.0000\n",
      "Epoch [89/100], Loss: 0.6220\n",
      "Validation Loss: 0.6926, Accuracy: 0.5417, F1 Score: 0.0000, Precision: 0.0000, Recall: 0.0000\n",
      "Epoch [90/100], Loss: 0.5980\n",
      "Validation Loss: 0.6926, Accuracy: 0.5417, F1 Score: 0.0000, Precision: 0.0000, Recall: 0.0000\n",
      "Epoch [91/100], Loss: 0.6546\n",
      "Validation Loss: 0.6944, Accuracy: 0.4583, F1 Score: 0.6286, Precision: 0.4583, Recall: 1.0000\n",
      "Epoch [92/100], Loss: 0.6364\n"
     ]
    },
    {
     "name": "stderr",
     "output_type": "stream",
     "text": [
      "C:\\Users\\User\\anaconda3\\envs\\detectlie\\Lib\\site-packages\\sklearn\\metrics\\_classification.py:1531: UndefinedMetricWarning: Precision is ill-defined and being set to 0.0 due to no predicted samples. Use `zero_division` parameter to control this behavior.\n",
      "  _warn_prf(average, modifier, f\"{metric.capitalize()} is\", len(result))\n"
     ]
    },
    {
     "name": "stdout",
     "output_type": "stream",
     "text": [
      "Validation Loss: 0.6938, Accuracy: 0.4583, F1 Score: 0.6286, Precision: 0.4583, Recall: 1.0000\n",
      "Epoch [93/100], Loss: 0.7521\n",
      "Validation Loss: 0.6930, Accuracy: 0.5417, F1 Score: 0.0000, Precision: 0.0000, Recall: 0.0000\n",
      "Epoch [94/100], Loss: 0.7078\n"
     ]
    },
    {
     "name": "stderr",
     "output_type": "stream",
     "text": [
      "C:\\Users\\User\\anaconda3\\envs\\detectlie\\Lib\\site-packages\\sklearn\\metrics\\_classification.py:1531: UndefinedMetricWarning: Precision is ill-defined and being set to 0.0 due to no predicted samples. Use `zero_division` parameter to control this behavior.\n",
      "  _warn_prf(average, modifier, f\"{metric.capitalize()} is\", len(result))\n",
      "C:\\Users\\User\\anaconda3\\envs\\detectlie\\Lib\\site-packages\\sklearn\\metrics\\_classification.py:1531: UndefinedMetricWarning: Precision is ill-defined and being set to 0.0 due to no predicted samples. Use `zero_division` parameter to control this behavior.\n",
      "  _warn_prf(average, modifier, f\"{metric.capitalize()} is\", len(result))\n"
     ]
    },
    {
     "name": "stdout",
     "output_type": "stream",
     "text": [
      "Validation Loss: 0.6933, Accuracy: 0.4583, F1 Score: 0.6286, Precision: 0.4583, Recall: 1.0000\n",
      "Epoch [95/100], Loss: 0.7892\n",
      "Validation Loss: 0.6930, Accuracy: 0.5417, F1 Score: 0.0000, Precision: 0.0000, Recall: 0.0000\n",
      "Epoch [96/100], Loss: 0.7086\n"
     ]
    },
    {
     "name": "stderr",
     "output_type": "stream",
     "text": [
      "C:\\Users\\User\\anaconda3\\envs\\detectlie\\Lib\\site-packages\\sklearn\\metrics\\_classification.py:1531: UndefinedMetricWarning: Precision is ill-defined and being set to 0.0 due to no predicted samples. Use `zero_division` parameter to control this behavior.\n",
      "  _warn_prf(average, modifier, f\"{metric.capitalize()} is\", len(result))\n",
      "C:\\Users\\User\\anaconda3\\envs\\detectlie\\Lib\\site-packages\\sklearn\\metrics\\_classification.py:1531: UndefinedMetricWarning: Precision is ill-defined and being set to 0.0 due to no predicted samples. Use `zero_division` parameter to control this behavior.\n",
      "  _warn_prf(average, modifier, f\"{metric.capitalize()} is\", len(result))\n",
      "C:\\Users\\User\\anaconda3\\envs\\detectlie\\Lib\\site-packages\\sklearn\\metrics\\_classification.py:1531: UndefinedMetricWarning: Precision is ill-defined and being set to 0.0 due to no predicted samples. Use `zero_division` parameter to control this behavior.\n",
      "  _warn_prf(average, modifier, f\"{metric.capitalize()} is\", len(result))\n"
     ]
    },
    {
     "name": "stdout",
     "output_type": "stream",
     "text": [
      "Validation Loss: 0.6927, Accuracy: 0.5417, F1 Score: 0.0000, Precision: 0.0000, Recall: 0.0000\n",
      "Epoch [97/100], Loss: 0.7451\n",
      "Validation Loss: 0.6928, Accuracy: 0.5417, F1 Score: 0.0000, Precision: 0.0000, Recall: 0.0000\n",
      "Epoch [98/100], Loss: 0.7194\n",
      "Validation Loss: 0.6925, Accuracy: 0.5417, F1 Score: 0.0000, Precision: 0.0000, Recall: 0.0000\n",
      "Epoch [99/100], Loss: 0.6025\n",
      "Validation Loss: 0.6931, Accuracy: 0.5417, F1 Score: 0.0000, Precision: 0.0000, Recall: 0.0000\n",
      "Epoch [100/100], Loss: 0.6596\n",
      "Validation Loss: 0.6925, Accuracy: 0.5417, F1 Score: 0.0000, Precision: 0.0000, Recall: 0.0000\n"
     ]
    },
    {
     "name": "stderr",
     "output_type": "stream",
     "text": [
      "C:\\Users\\User\\anaconda3\\envs\\detectlie\\Lib\\site-packages\\sklearn\\metrics\\_classification.py:1531: UndefinedMetricWarning: Precision is ill-defined and being set to 0.0 due to no predicted samples. Use `zero_division` parameter to control this behavior.\n",
      "  _warn_prf(average, modifier, f\"{metric.capitalize()} is\", len(result))\n",
      "C:\\Users\\User\\anaconda3\\envs\\detectlie\\Lib\\site-packages\\sklearn\\metrics\\_classification.py:1531: UndefinedMetricWarning: Precision is ill-defined and being set to 0.0 due to no predicted samples. Use `zero_division` parameter to control this behavior.\n",
      "  _warn_prf(average, modifier, f\"{metric.capitalize()} is\", len(result))\n"
     ]
    }
   ],
   "source": [
    "import numpy as np\n",
    "import torch\n",
    "import torch.nn as nn\n",
    "import torch.optim as optim\n",
    "from torch.utils.data import DataLoader, TensorDataset, random_split\n",
    "from sklearn.metrics import accuracy_score, f1_score, precision_score, recall_score\n",
    "\n",
    "# Convert numpy arrays to PyTorch tensors\n",
    "X_tensor = torch.tensor(np.load(r'C:\\Users\\User\\Documents\\Lie detect data\\X_normalized.npy'), dtype=torch.float32)\n",
    "y_tensor = torch.tensor(np.load(r'C:\\Users\\User\\Documents\\Lie detect data\\y.npy'), dtype=torch.float32)  # Ensure labels are float for BCELoss\n",
    "\n",
    "# Create a dataset and split into training and validation sets\n",
    "dataset = TensorDataset(X_tensor, y_tensor)\n",
    "train_size = int(0.8 * len(dataset))\n",
    "val_size = len(dataset) - train_size\n",
    "train_dataset, val_dataset = random_split(dataset, [train_size, val_size])\n",
    "\n",
    "train_loader = DataLoader(train_dataset, batch_size=64, shuffle=True)\n",
    "val_loader = DataLoader(val_dataset, batch_size=64, shuffle=False)\n",
    "\n",
    "# Print class distribution\n",
    "print(\"Class Distribution in Training Set:\", torch.bincount(y_tensor[train_dataset.indices].long()))\n",
    "print(\"Class Distribution in Validation Set:\", torch.bincount(y_tensor[val_dataset.indices].long()))\n",
    "\n",
    "# Define the LSTM model\n",
    "class LSTMModel(nn.Module):\n",
    "    def __init__(self, input_size, hidden_size, num_layers):\n",
    "        super(LSTMModel, self).__init__()\n",
    "        self.hidden_size = hidden_size\n",
    "        self.num_layers = num_layers\n",
    "        self.lstm1 = nn.LSTM(input_size, hidden_size, num_layers=num_layers, batch_first=True)\n",
    "        self.relu = nn.ReLU()\n",
    "        self.dropout = nn.Dropout(0.5)\n",
    "        self.bn = nn.BatchNorm1d(hidden_size)\n",
    "        self.flatten = nn.Flatten()\n",
    "        self.fc = nn.Linear(hidden_size, 1)  # Fully connected layer\n",
    "        self.sigmoid = nn.Sigmoid()\n",
    "\n",
    "    def forward(self, x):\n",
    "        h_0 = torch.zeros(self.num_layers, x.size(0), self.hidden_size).to(x.device)\n",
    "        c_0 = torch.zeros(self.num_layers, x.size(0), self.hidden_size).to(x.device)\n",
    "        \n",
    "        out, _ = self.lstm1(x, (h_0, c_0))\n",
    "        out = self.relu(out)\n",
    "        out = self.dropout(out)\n",
    "        out = out[:, -1, :]  # Take the output of the last time step\n",
    "        out = self.bn(out)\n",
    "        out = self.flatten(out)\n",
    "        out = self.fc(out)\n",
    "        out = self.sigmoid(out)\n",
    "        return out\n",
    "\n",
    "# Calculate class weights\n",
    "num_pos = (y_tensor == 1).sum().item()\n",
    "num_neg = (y_tensor == 0).sum().item()\n",
    "weight = num_neg / num_pos\n",
    "class_weights = torch.tensor([weight], dtype=torch.float32).to(device)\n",
    "\n",
    "# Initialize the model\n",
    "input_size = 65  # Number of channels\n",
    "hidden_size = 128\n",
    "num_layers = 2  # More layers can capture more complex patterns\n",
    "device = torch.device('cuda' if torch.cuda.is_available() else 'cpu')\n",
    "model = LSTMModel(input_size, hidden_size, num_layers).to(device)\n",
    "\n",
    "# Loss and optimizer\n",
    "criterion = nn.BCELoss(weight=class_weights)  # Binary Cross-Entropy Loss with class weights\n",
    "optimizer = optim.Adam(model.parameters(), lr=0.00001)  # Lower learning rate\n",
    "\n",
    "# Training loop\n",
    "num_epochs = 100  # Adjusted for reasonable training time; can be increased if needed\n",
    "for epoch in range(num_epochs):\n",
    "    model.train()\n",
    "    for i, (inputs, labels) in enumerate(train_loader):\n",
    "        inputs, labels = inputs.to(device), labels.to(device)\n",
    "        \n",
    "        outputs = model(inputs).squeeze()  # Squeeze to match the label shape\n",
    "        loss = criterion(outputs, labels)\n",
    "\n",
    "        optimizer.zero_grad()\n",
    "        loss.backward()\n",
    "        optimizer.step()\n",
    "\n",
    "    print(f'Epoch [{epoch+1}/{num_epochs}], Loss: {loss.item():.4f}')\n",
    "\n",
    "    # Validation loop\n",
    "    model.eval()\n",
    "    val_loss = 0\n",
    "    all_preds = []\n",
    "    all_labels = []\n",
    "    with torch.no_grad():\n",
    "        for inputs, labels in val_loader:\n",
    "            inputs, labels = inputs.to(device), labels.to(device)\n",
    "            \n",
    "            outputs = model(inputs).squeeze()  # Squeeze to match the label shape\n",
    "            loss = criterion(outputs, labels)\n",
    "            val_loss += loss.item()\n",
    "            \n",
    "            preds = (outputs > 0.5).float()  # Convert probabilities to binary predictions\n",
    "            all_preds.extend(preds.cpu().numpy())\n",
    "            all_labels.extend(labels.cpu().numpy())\n",
    "\n",
    "    # Calculate metrics\n",
    "    val_loss /= len(val_loader)\n",
    "    accuracy = accuracy_score(all_labels, all_preds)\n",
    "    f1 = f1_score(all_labels, all_preds)\n",
    "    precision = precision_score(all_labels, all_preds)\n",
    "    recall = recall_score(all_labels, all_preds)\n",
    "\n",
    "    print(f'Validation Loss: {val_loss:.4f}, Accuracy: {accuracy:.4f}, F1 Score: {f1:.4f}, Precision: {precision:.4f}, Recall: {recall:.4f}')\n"
   ]
  },
  {
   "cell_type": "code",
   "execution_count": null,
   "id": "3cf233a6-5803-475a-9cbe-18bbce0e7cbf",
   "metadata": {},
   "outputs": [],
   "source": []
  }
 ],
 "metadata": {
  "kernelspec": {
   "display_name": "Python 3 (ipykernel)",
   "language": "python",
   "name": "python3"
  },
  "language_info": {
   "codemirror_mode": {
    "name": "ipython",
    "version": 3
   },
   "file_extension": ".py",
   "mimetype": "text/x-python",
   "name": "python",
   "nbconvert_exporter": "python",
   "pygments_lexer": "ipython3",
   "version": "3.12.4"
  }
 },
 "nbformat": 4,
 "nbformat_minor": 5
}
